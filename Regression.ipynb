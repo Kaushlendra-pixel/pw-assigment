{
  "nbformat": 4,
  "nbformat_minor": 0,
  "metadata": {
    "colab": {
      "provenance": []
    },
    "kernelspec": {
      "name": "python3",
      "display_name": "Python 3"
    },
    "language_info": {
      "name": "python"
    }
  },
  "cells": [
    {
      "cell_type": "markdown",
      "source": [
        "Regression"
      ],
      "metadata": {
        "id": "TwXv4wNJkoL3"
      }
    },
    {
      "cell_type": "code",
      "source": [
        "#Question1 What is Simple Linear Regression?\n",
        "\n",
        "#Answer It’s a method to model the relationship between one independent variable (X) and one dependent variable (Y) using a straight line.\n"
      ],
      "metadata": {
        "id": "yFm0nWt1kq0e"
      },
      "execution_count": null,
      "outputs": []
    },
    {
      "cell_type": "code",
      "source": [
        "#Question2 What are the key assumptions of Simple Linear Regression?\n",
        "\n",
        "#Answer Linear relationship between X and Y\n",
        "\n",
        "# Errors are normally distributed\n",
        "\n",
        "# Constant variance of errors\n",
        "\n",
        "# Independence of observations"
      ],
      "metadata": {
        "id": "xiSOBDfgk4bu"
      },
      "execution_count": null,
      "outputs": []
    },
    {
      "cell_type": "code",
      "source": [
        "#Question 3 What does the coefficient m represent in the equation Y = mX + c?\n",
        "\n",
        "#Answer It’s the slope. It shows how much Y changes for a unit change in X."
      ],
      "metadata": {
        "id": "ghI4Lvo7mIYX"
      },
      "execution_count": null,
      "outputs": []
    },
    {
      "cell_type": "code",
      "source": [
        "#Question 4 What does the intercept c represent in the equation Y = mX + c?\n",
        "\n",
        "#answer It’s the value of Y when X = 0."
      ],
      "metadata": {
        "id": "wO0JPxuQmSGJ"
      },
      "execution_count": null,
      "outputs": []
    },
    {
      "cell_type": "code",
      "source": [
        "#Question 5 How do we calculate the slope m in Simple Linear Regression?\n",
        "\n",
        "#answer The slope (m) is calculated as the covariance of X and Y divided by the variance of X: m = Cov(X, Y) / Var(X)."
      ],
      "metadata": {
        "id": "bftU3Rr1mYcJ"
      },
      "execution_count": null,
      "outputs": []
    },
    {
      "cell_type": "code",
      "source": [
        "#Question 6 What is the purpose of the least squares method in Simple Linear Regression?\n",
        "\n",
        "#Answer To minimize the sum of squared errors between predicted and actual values.\n"
      ],
      "metadata": {
        "id": "AL-zaMYXmdLq"
      },
      "execution_count": null,
      "outputs": []
    },
    {
      "cell_type": "code",
      "source": [
        "#Question 7 How is the coefficient of determination (R²) interpreted in Simple Linear Regression?\n",
        "\n",
        "#Answer It shows the proportion of variance in Y explained by X. Closer to 1 = better fit"
      ],
      "metadata": {
        "id": "Kzus6OO5moua"
      },
      "execution_count": null,
      "outputs": []
    },
    {
      "cell_type": "code",
      "source": [
        "#Question 8 What is Multiple Linear Regression?\n",
        "\n",
        "#answer It models the relationship between one dependent variable and two or more independent variables."
      ],
      "metadata": {
        "id": "EpBpTnUFmxGL"
      },
      "execution_count": null,
      "outputs": []
    },
    {
      "cell_type": "code",
      "source": [
        "#Question9 What is the main difference between Simple and Multiple Linear Regression?\n",
        "\n",
        "#Answer Simple uses one predictor. Multiple uses two or more."
      ],
      "metadata": {
        "id": "TyMSEeawm8es"
      },
      "execution_count": null,
      "outputs": []
    },
    {
      "cell_type": "code",
      "source": [
        "#Question10 . What are the key assumptions of Multiple Linear Regression?\n",
        "\n",
        "#Answer 1. Linearity: The relationship between the dependent variable and each independent variable is linear.\n",
        "#2. Independence: The observations are independent of each other\n",
        "# 3. Homoscedasticity: The variance of the errors is constant across all levels of the independent variables.\n",
        "#4. Normality: The errors are normally distributed.\n",
        "#5. No multicollinearity: The independent variables are not highly correlated with each other."
      ],
      "metadata": {
        "id": "41DY4rzOnHHs"
      },
      "execution_count": null,
      "outputs": []
    },
    {
      "cell_type": "code",
      "source": [
        "#Question11 What is heteroscedasticity, and how does it affect results of a Multiple Linear Regression model?\n",
        "\n",
        "#answer When error variance is not constant across values of X. It makes estimates unreliable.\n"
      ],
      "metadata": {
        "id": "3sxigluUnh7J"
      },
      "execution_count": null,
      "outputs": []
    },
    {
      "cell_type": "code",
      "source": [
        "#Question12 How can you improve a Multiple Linear Regression model with high multicollinearity?\n",
        "\n",
        "#Answer You can improve a Multiple Linear Regression model with high multicollinearity by removing one of the highly correlated variables, combining the highly correlated variables into a single variable, or using regularization techniques like Ridge or Lasso regression."
      ],
      "metadata": {
        "id": "k2_22xexnqho"
      },
      "execution_count": null,
      "outputs": []
    },
    {
      "cell_type": "code",
      "source": [
        "#Question 13 What are some common techniques for transforming categorical variables for regression models?\n",
        "\n",
        "#Answer One-hot encoding\n",
        "\n",
        "# Label encoding\n",
        "\n",
        "# Dummy variables"
      ],
      "metadata": {
        "id": "VBdarDLon9AS"
      },
      "execution_count": null,
      "outputs": []
    },
    {
      "cell_type": "code",
      "source": [
        "#Question14  What is the role of interaction terms in Multiple Linear Regression?\n",
        "\n",
        "#Answer They capture combined effects of two variables on Y."
      ],
      "metadata": {
        "id": "QN5m01-roEss"
      },
      "execution_count": null,
      "outputs": []
    },
    {
      "cell_type": "code",
      "source": [
        "#Question15 How can the interpretation of intercept differ between Simple and Multiple Linear Regression?\n",
        "\n",
        "#Answer Simple: value of Y when X=0\n",
        "\n",
        "# Multiple: value of Y when all X’s = 0"
      ],
      "metadata": {
        "id": "_IfrNOqqoNw8"
      },
      "execution_count": null,
      "outputs": []
    },
    {
      "cell_type": "code",
      "source": [
        "#Question16 16. What is the significance of the slope in regression analysis, and how does it affect predictions?\n",
        "\n",
        "#Answer It tells how much Y changes for a one-unit change in X (holding other variables constant in MLR)."
      ],
      "metadata": {
        "id": "FArN2Dy4oVi1"
      },
      "execution_count": null,
      "outputs": []
    },
    {
      "cell_type": "code",
      "source": [
        "#Question17 How does the intercept in a regression model provide context for the relationship between variables?\n",
        "\n",
        "#Answer It anchors the regression line, giving the baseline value of Y"
      ],
      "metadata": {
        "id": "ZUep3f_DogH-"
      },
      "execution_count": null,
      "outputs": []
    },
    {
      "cell_type": "code",
      "source": [
        "#Question18 What are the limitations of using R² as a sole measure of model performance?\n",
        "\n",
        "#Answer Always increases with more predictors\n",
        "\n",
        "# Doesn’t show overfitting\n",
        "\n",
        "# Doesn’t measure predictive accuracy"
      ],
      "metadata": {
        "id": "ML7FfHRQonXf"
      },
      "execution_count": null,
      "outputs": []
    },
    {
      "cell_type": "code",
      "source": [
        "#Question19 How would you interpret a large standard error for a regression coefficient?\n",
        "\n",
        "#Answer The estimate is unstable and not statistically significant."
      ],
      "metadata": {
        "id": "U1Zbb2_boxKp"
      },
      "execution_count": null,
      "outputs": []
    },
    {
      "cell_type": "code",
      "source": [
        "#Question 20 How can heteroscedasticity be identified in residual plots, and why is it important to address it?\n",
        "\n",
        "#$Answer Identified when residual spread increases/decreases with X\n",
        "\n",
        "# Important because it invalidates standard errors and test results"
      ],
      "metadata": {
        "id": "PWKgy8lmo2bZ"
      },
      "execution_count": null,
      "outputs": []
    },
    {
      "cell_type": "code",
      "source": [
        "#question21 What does it mean if a Multiple Linear Regression model has a high R² but low adjusted R²?\n",
        "\n",
        "#answer It means too many predictors are included, some of which don’t add value."
      ],
      "metadata": {
        "id": "sbz2I0m4pC26"
      },
      "execution_count": null,
      "outputs": []
    },
    {
      "cell_type": "code",
      "source": [
        "#Question22 Why is it important to scale variables in Multiple Linear Regression?\n",
        "\n",
        "#Answer To avoid biased coefficients and improve interpretability, especially with regularization."
      ],
      "metadata": {
        "id": "Mw0SL2ZapPJL"
      },
      "execution_count": null,
      "outputs": []
    },
    {
      "cell_type": "code",
      "source": [
        "#Question23 What is polynomial regression?\n",
        "\n",
        "#answer It’s regression where the relationship between X and Y is modeled as an nth-degree polynomial."
      ],
      "metadata": {
        "id": "MsHX82XVpWeM"
      },
      "execution_count": null,
      "outputs": []
    },
    {
      "cell_type": "code",
      "source": [
        "#Q@uestion24 How does polynomial regression differ from linear regression?\n",
        "\n",
        "#answer Linear regression fits a straight line. Polynomial regression fits a curve."
      ],
      "metadata": {
        "id": "jz40ckWJpd6e"
      },
      "execution_count": null,
      "outputs": []
    },
    {
      "cell_type": "code",
      "source": [
        "#Question 25 When is polynomial regression used?\n",
        "\n",
        "#Answer When data shows a non-linear trend"
      ],
      "metadata": {
        "id": "ChEqJo7WpmCV"
      },
      "execution_count": null,
      "outputs": []
    },
    {
      "cell_type": "code",
      "source": [
        "#question26 What is the general equation for polynomial regression?\n",
        "\n",
        "#Answer The general equation for polynomial regression with one independent variable is Y = β₀ + β₁X + β₂X² + ... + βn Xⁿ + ε, where n is the degree of the polynomial."
      ],
      "metadata": {
        "id": "9-q8_-WZpuAm"
      },
      "execution_count": null,
      "outputs": []
    },
    {
      "cell_type": "code",
      "source": [
        "#Question 27 Can polynomial regression be applied to multiple variables?\n",
        "\n",
        "#answer Yes, with interaction and higher-degree terms of multiple predictors."
      ],
      "metadata": {
        "id": "u_31pvRppyx_"
      },
      "execution_count": null,
      "outputs": []
    },
    {
      "cell_type": "code",
      "source": [
        "#Question 28 What are the limitations of polynomial regression?\n",
        "\n",
        "#Answer Risk of overfitting\n",
        "\n",
        "# Hard to interpret\n",
        "\n",
        "# Extrapolation is unreliable"
      ],
      "metadata": {
        "id": "prJGdyqWp89v"
      },
      "execution_count": null,
      "outputs": []
    },
    {
      "cell_type": "code",
      "source": [
        "#Question29 What methods can be used to evaluate model fit when selecting the degree of a polynomial?\n",
        "\n",
        "#Answer Methods include using R-squared, adjusted R-squared, AIC, BIC, or cross-validation. Visual inspection of the fitted curve and residual plots is also important."
      ],
      "metadata": {
        "id": "ht1F4HURqFn7"
      },
      "execution_count": null,
      "outputs": []
    },
    {
      "cell_type": "code",
      "source": [
        "#Question30 Why is visualization important in polynomial regression?\n",
        "\n",
        "#answer To confirm the curve fits the data well without overfitting."
      ],
      "metadata": {
        "id": "9hOVtOapqQ8K"
      },
      "execution_count": null,
      "outputs": []
    },
    {
      "cell_type": "code",
      "source": [
        "#Question 31How is polynomial regression implemented in Python?\n",
        "# Core libraries\n",
        "import numpy as np\n",
        "import pandas as pd\n",
        "\n",
        "# For splitting data\n",
        "from sklearn.model_selection import train_test_split\n",
        "\n",
        "# For polynomial regression\n",
        "from sklearn.preprocessing import PolynomialFeatures\n",
        "from sklearn.linear_model import LinearRegression\n",
        "\n",
        "# For evaluation\n",
        "from sklearn.metrics import mean_squared_error, r2_score\n",
        "\n",
        "# Example dataset (replace with your own X, y)\n",
        "X = np.array([1, 2, 3, 4, 5]).reshape(-1, 1)\n",
        "y = np.array([2, 6, 14, 28, 45])\n",
        "\n",
        "# Transform features into polynomial features\n",
        "poly = PolynomialFeatures(degree=2)\n",
        "X_poly = poly.fit_transform(X)\n",
        "\n",
        "# Fit polynomial regression\n",
        "model = LinearRegression()\n",
        "model.fit(X_poly, y)\n",
        "\n",
        "# Predictions\n",
        "y_pred = model.predict(X_poly)\n",
        "\n",
        "# Evaluation\n",
        "print(\"R² Score:\", r2_score(y, y_pred))\n",
        "print(\"MSE:\", mean_squared_error(y, y_pred))\n"
      ],
      "metadata": {
        "colab": {
          "base_uri": "https://localhost:8080/"
        },
        "id": "3NHFXf6TqX17",
        "outputId": "dce16643-06e2-413d-dbb3-22f895e49fa8"
      },
      "execution_count": 8,
      "outputs": [
        {
          "output_type": "stream",
          "name": "stdout",
          "text": [
            "R² Score: 0.9996313364055299\n",
            "MSE: 0.0914285714285714\n"
          ]
        }
      ]
    },
    {
      "cell_type": "code",
      "source": [],
      "metadata": {
        "id": "X5v67jrareDp"
      },
      "execution_count": null,
      "outputs": []
    }
  ]
}