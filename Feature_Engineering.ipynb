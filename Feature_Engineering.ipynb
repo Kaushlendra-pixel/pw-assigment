{
  "nbformat": 4,
  "nbformat_minor": 0,
  "metadata": {
    "colab": {
      "provenance": []
    },
    "kernelspec": {
      "name": "python3",
      "display_name": "Python 3"
    },
    "language_info": {
      "name": "python"
    }
  },
  "cells": [
    {
      "cell_type": "code",
      "execution_count": null,
      "metadata": {
        "id": "qGQW5EdpcdAD"
      },
      "outputs": [],
      "source": [
        "#Question1 What is a parameter?\n",
        "\n",
        "#Answer In simple terms, a parameter is something the machine learning model learns from the data. For example, in a linear regression model, the slope and intercept are parameters. These values help the model make predictions.\n",
        "\n"
      ]
    },
    {
      "cell_type": "code",
      "source": [
        "#Question2 What is correlation? What does negative correlation mean?\n",
        "\n",
        "#Answer Correlation is a way to check if two things move together. For instance, if a person eats more, their weight might increase—this is a positive correlation. If one goes up and the other goes down, that’s a negative correlation.\n",
        "# It means that when one value increases, the other tends to decrease. For example, as the speed of a car increases, the time it takes to reach a place usually goes down."
      ],
      "metadata": {
        "id": "dijzg85Kc0dd"
      },
      "execution_count": null,
      "outputs": []
    },
    {
      "cell_type": "code",
      "source": [
        "#Question3 Define Machine Learning. What are the main components in Machine Learning?\n",
        "\n",
        "#Answer achine Learning is about teaching computers to learn from data and make decisions without being told exactly what to do.\n",
        "#Main components include:\n",
        "\n",
        "# Data\n",
        "\n",
        "# Model\n",
        "\n",
        "# Algorithm\n",
        "\n",
        "# Loss function\n",
        "\n",
        "# Evaluation metric"
      ],
      "metadata": {
        "id": "sDgAm7hjdDV-"
      },
      "execution_count": null,
      "outputs": []
    },
    {
      "cell_type": "code",
      "source": [
        "#Question4 How does loss value help in determining whether the model is good or not?\n",
        "\n",
        "#Answer Loss tells us how far off our predictions are from the actual values. A low loss means the model is doing a good job. A high loss means we need to improve it."
      ],
      "metadata": {
        "id": "silArpD5dQ34"
      },
      "execution_count": null,
      "outputs": []
    },
    {
      "cell_type": "code",
      "source": [
        "#Question5  What are continuous and categorical variables? What are continuous and categorical variables?\n",
        "\n",
        "#Answer Continuous variables are numbers that can take any value, like height or weight.\n",
        "\n",
        "# Categorical variables are like labels or groups, such as color or gender.\n",
        "\n"
      ],
      "metadata": {
        "id": "iVR2tvuqdZvP"
      },
      "execution_count": null,
      "outputs": []
    },
    {
      "cell_type": "code",
      "source": [
        "#Question6 How do we handle categorical variables in Machine Learning? What are the common techniques?\n",
        "\n",
        "#answer Since machines work with numbers, we have to convert categories into numbers. Some common ways are:\n",
        "\n",
        "#Label Encoding\n",
        "\n",
        "#One-Hot Encoding\n",
        "\n",
        "# Ordinal Encoding"
      ],
      "metadata": {
        "id": "qCDVRrofdjLR"
      },
      "execution_count": null,
      "outputs": []
    },
    {
      "cell_type": "code",
      "source": [
        "#Question7 What do you mean by training and testing a dataset?\n",
        "\n",
        "#Answer Training is when the model learns patterns from the data. Testing is checking if the model has actually learned well by making it predict on new (unseen) data."
      ],
      "metadata": {
        "id": "-rB3Jb30ds9h"
      },
      "execution_count": null,
      "outputs": []
    },
    {
      "cell_type": "code",
      "source": [
        "#Question8 What is sklearn.preprocessing?\n",
        "\n",
        "#answer It’s a module in scikit-learn that helps us prepare data before feeding it to a model—like scaling, encoding, and normalizing.\n",
        "\n"
      ],
      "metadata": {
        "id": "oL5wFcFXdvMS"
      },
      "execution_count": null,
      "outputs": []
    },
    {
      "cell_type": "code",
      "source": [
        "#Question9 What is a Test set?\n",
        "\n",
        "#Answer It’s a portion of the data that we keep aside to test how well our trained model performs."
      ],
      "metadata": {
        "id": "eTymrozwd9Jr"
      },
      "execution_count": null,
      "outputs": []
    },
    {
      "cell_type": "code",
      "source": [
        "#Question10  How do we split data for model fitting (training and testing) in Python? How do you approach a Machine Learning problem?\n",
        "\n",
        "#Answer We use train_test_split() from scikit-learn to split our data. It helps divide data into training and testing parts.\n",
        "\n",
        " # Here’s how I’d approach it:\n",
        "\n",
        "#1 Understand the problem and data\n",
        "\n",
        "#2 Clean and explore the data (EDA)\n",
        "\n",
        "#3 Do feature engineering\n",
        "\n",
        "#4 Choose and train a model\n",
        "\n",
        "#5 Evaluate performance\n",
        "\n",
        "#6 Tune and improve\n",
        "\n",
        "#6 Deploy if needed\n",
        "\n",
        "\n",
        "\n"
      ],
      "metadata": {
        "id": "9L2fb-ZieCOt"
      },
      "execution_count": null,
      "outputs": []
    },
    {
      "cell_type": "code",
      "source": [
        "#Question11 Why do we have to perform EDA before fitting a model to the data?\n",
        "\n",
        "#answer EDA (Exploratory Data Analysis) helps us understand our data better—like seeing patterns, missing values, or outliers—so we can make smarter modeling choices.\n",
        "\n"
      ],
      "metadata": {
        "id": "-zc2K8MbegSQ"
      },
      "execution_count": null,
      "outputs": []
    },
    {
      "cell_type": "code",
      "source": [
        "#Question12 What is correlation?\n",
        "\n",
        "# repeated"
      ],
      "metadata": {
        "id": "9nM68nlCe3hI"
      },
      "execution_count": 1,
      "outputs": []
    },
    {
      "cell_type": "code",
      "source": [
        "#Question13 What does negative correlation mean?\n",
        "\n",
        "#Answer repeated"
      ],
      "metadata": {
        "id": "DnZCdd-Ue-SM"
      },
      "execution_count": null,
      "outputs": []
    },
    {
      "cell_type": "code",
      "source": [
        "#Question14 How can you find correlation between variables in Python?\n",
        "\n",
        "#Answer df.corr()\n"
      ],
      "metadata": {
        "id": "YhvXN_ZWfI_8"
      },
      "execution_count": null,
      "outputs": []
    },
    {
      "cell_type": "code",
      "source": [
        "#Question15 What is causation? Explain difference between correlation and causation with an example.\n",
        "\n",
        "#Answer Causation means one thing actually causes another to happen. Correlation just shows a relationship.\n",
        "\n",
        "# Example: Ice cream sales and drowning may both go up in summer (correlation), but eating ice cream doesn’t cause drowning (no causation)."
      ],
      "metadata": {
        "id": "aTr4ANPsfSfc"
      },
      "execution_count": null,
      "outputs": []
    },
    {
      "cell_type": "code",
      "source": [
        "#Question16 . What is an Optimizer? What are different types of optimizers?\n",
        "\n",
        "#Answer Optimizers are like guides that help the model improve by adjusting the parameters to reduce error.\n",
        "# Examples:\n",
        "\n",
        "#SGD (Stochastic Gradient Descent)\n",
        "\n",
        "#Adam\n",
        "\n",
        "# RMSprop"
      ],
      "metadata": {
        "id": "ETdUnE2EgKx4"
      },
      "execution_count": null,
      "outputs": []
    },
    {
      "cell_type": "code",
      "source": [
        "#Question17 What is sklearn.linear_model?\n",
        "\n",
        "#Answer It’s a module in scikit-learn that includes various linear models like Linear Regression and Logistic Regression.\n",
        "\n"
      ],
      "metadata": {
        "id": "3df825lRgZtw"
      },
      "execution_count": null,
      "outputs": []
    },
    {
      "cell_type": "code",
      "source": [
        "#Question18  What does model.fit() do? What arguments must be given?\n",
        "\n",
        "#Answer It trains the model using the training data.\n",
        "# We usually pass:\n",
        "# model.fit(X_train, y_train)\n"
      ],
      "metadata": {
        "id": "f16hLPldgjEp"
      },
      "execution_count": null,
      "outputs": []
    },
    {
      "cell_type": "code",
      "source": [
        "#Question19 What does model.predict() do? What arguments must be given?\n",
        "\n",
        "#Answer It makes predictions using the trained model.\n",
        "# We pass the input data like:\n",
        "# model.predict(X_test)\n",
        "\n"
      ],
      "metadata": {
        "id": "5Vrg19Cygrrq"
      },
      "execution_count": 3,
      "outputs": []
    },
    {
      "cell_type": "code",
      "source": [
        "#Question20 What are continuous and categorical variables?\n",
        "\n",
        "#Answer repeated"
      ],
      "metadata": {
        "id": "AyXC9t5bhBp8"
      },
      "execution_count": null,
      "outputs": []
    },
    {
      "cell_type": "code",
      "source": [
        "#Question21 What is feature scaling? How does it help in Machine Learning?\n",
        "\n",
        "#Answer Feature scaling adjusts values to a similar range so that no variable dominates. It helps many models (like KNN or Logistic Regression) perform better."
      ],
      "metadata": {
        "id": "1COgk637hMv1"
      },
      "execution_count": null,
      "outputs": []
    },
    {
      "cell_type": "code",
      "source": [
        "#Question22 How do we perform scaling in Python?\n",
        "\n",
        "#Answer We can use tools like StandardScaler or MinMaxScaler:\n",
        "\"\"\"\n",
        "from sklearn.preprocessing import StandardScaler\n",
        "scaler = StandardScaler()\n",
        "X_scaled = scaler.fit_transform(X)\n",
        "\"\"\""
      ],
      "metadata": {
        "colab": {
          "base_uri": "https://localhost:8080/",
          "height": 53
        },
        "id": "ph_RtgPyhWh2",
        "outputId": "135928a5-c3a4-416f-df57-135ac91bfb12"
      },
      "execution_count": 5,
      "outputs": [
        {
          "output_type": "execute_result",
          "data": {
            "text/plain": [
              "'\\nfrom sklearn.preprocessing import StandardScaler\\nscaler = StandardScaler()\\nX_scaled = scaler.fit_transform(X)\\n'"
            ],
            "application/vnd.google.colaboratory.intrinsic+json": {
              "type": "string"
            }
          },
          "metadata": {},
          "execution_count": 5
        }
      ]
    },
    {
      "cell_type": "code",
      "source": [
        "#Question23 What is sklearn.preprocessing?\n",
        "\n",
        "#Answer repeated"
      ],
      "metadata": {
        "id": "5_obL1WThp35"
      },
      "execution_count": null,
      "outputs": []
    },
    {
      "cell_type": "code",
      "source": [
        "#Question24 How do we split data for model fitting (training and testing) in Python?\n",
        "\n",
        "#Answer repeated"
      ],
      "metadata": {
        "id": "fNFWhVZ6h8UK"
      },
      "execution_count": null,
      "outputs": []
    },
    {
      "cell_type": "code",
      "source": [
        "#Question25 Explain data encoding?\n",
        "\n",
        "#Answer Encoding means converting categories (like ‘Male’ and ‘Female’) into numbers. This way, machine learning models can understand and use them."
      ],
      "metadata": {
        "id": "OabXeARuiChS"
      },
      "execution_count": null,
      "outputs": []
    }
  ]
}